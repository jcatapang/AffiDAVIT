{
 "cells": [
  {
   "cell_type": "code",
   "execution_count": 1,
   "metadata": {},
   "outputs": [],
   "source": [
    "import os\n",
    "import random\n",
    "import shutil\n",
    "import pandas as pd\n",
    "from sklearn.metrics import confusion_matrix\n",
    "import seaborn as sns\n",
    "import matplotlib.pyplot as plt   \n",
    "import numpy as np"
   ]
  },
  {
   "cell_type": "code",
   "execution_count": 2,
   "metadata": {},
   "outputs": [
    {
     "data": {
      "text/plain": [
       "['C:\\\\Users\\\\Admin\\\\Documents\\\\Python Scripts\\\\diabetic_retinopathy\\\\data\\\\preprocessed\\\\train\\\\with_dr_synth\\\\with_dr_gen (667).jpeg',\n",
       " 'C:\\\\Users\\\\Admin\\\\Documents\\\\Python Scripts\\\\diabetic_retinopathy\\\\data\\\\preprocessed\\\\train\\\\with_dr_synth\\\\with_dr_gen (1409).jpeg',\n",
       " 'C:\\\\Users\\\\Admin\\\\Documents\\\\Python Scripts\\\\diabetic_retinopathy\\\\data\\\\preprocessed\\\\train\\\\with_dr_synth\\\\with_dr_gen (1090).jpeg',\n",
       " 'C:\\\\Users\\\\Admin\\\\Documents\\\\Python Scripts\\\\diabetic_retinopathy\\\\data\\\\preprocessed\\\\train\\\\with_dr_synth\\\\with_dr_gen (2011).jpeg',\n",
       " 'C:\\\\Users\\\\Admin\\\\Documents\\\\Python Scripts\\\\diabetic_retinopathy\\\\data\\\\preprocessed\\\\train\\\\with_dr_synth\\\\with_dr_gen (1901).jpeg']"
      ]
     },
     "execution_count": 2,
     "metadata": {},
     "output_type": "execute_result"
    }
   ],
   "source": [
    "gen = r\"C:\\Users\\Admin\\Documents\\Python Scripts\\diabetic_retinopathy\\data\\preprocessed\\train\\with_dr_synth\"\n",
    "synthetic = list(os.walk(gen))[0][2]\n",
    "random.seed(42)\n",
    "synthetic = random.sample(synthetic, 177)\n",
    "synthetic = [gen + \"\\\\\" + s for s in synthetic]\n",
    "synthetic[0:5]"
   ]
  },
  {
   "cell_type": "code",
   "execution_count": 3,
   "metadata": {},
   "outputs": [
    {
     "data": {
      "text/plain": [
       "['C:\\\\Users\\\\Admin\\\\Documents\\\\Python Scripts\\\\diabetic_retinopathy\\\\data\\\\preprocessed\\\\train\\\\setup_1_imbalanced\\\\with_dr\\\\with_dr (615).jpeg',\n",
       " 'C:\\\\Users\\\\Admin\\\\Documents\\\\Python Scripts\\\\diabetic_retinopathy\\\\data\\\\preprocessed\\\\train\\\\setup_1_imbalanced\\\\with_dr\\\\with_dr (681).jpeg',\n",
       " 'C:\\\\Users\\\\Admin\\\\Documents\\\\Python Scripts\\\\diabetic_retinopathy\\\\data\\\\preprocessed\\\\train\\\\setup_1_imbalanced\\\\with_dr\\\\with_dr (1072).jpeg',\n",
       " 'C:\\\\Users\\\\Admin\\\\Documents\\\\Python Scripts\\\\diabetic_retinopathy\\\\data\\\\preprocessed\\\\train\\\\setup_1_imbalanced\\\\with_dr\\\\with_dr (383).jpeg',\n",
       " 'C:\\\\Users\\\\Admin\\\\Documents\\\\Python Scripts\\\\diabetic_retinopathy\\\\data\\\\preprocessed\\\\train\\\\setup_1_imbalanced\\\\with_dr\\\\with_dr (849).jpeg']"
      ]
     },
     "execution_count": 3,
     "metadata": {},
     "output_type": "execute_result"
    }
   ],
   "source": [
    "base = r\"C:\\Users\\Admin\\Documents\\Python Scripts\\diabetic_retinopathy\\data\\preprocessed\\train\\setup_1_imbalanced\\with_dr\"\n",
    "real = sorted(list(os.walk(base))[0][2])\n",
    "random.seed(0)\n",
    "real = random.sample(real, 177)\n",
    "real = [base + \"\\\\\" + r for r in real]\n",
    "real[0:5]"
   ]
  },
  {
   "cell_type": "code",
   "execution_count": 4,
   "metadata": {},
   "outputs": [
    {
     "data": {
      "text/plain": [
       "['C:\\\\Users\\\\Admin\\\\Documents\\\\Python Scripts\\\\diabetic_retinopathy\\\\data\\\\preprocessed\\\\train\\\\setup_1_imbalanced\\\\with_dr\\\\with_dr (412).jpeg',\n",
       " 'C:\\\\Users\\\\Admin\\\\Documents\\\\Python Scripts\\\\diabetic_retinopathy\\\\data\\\\preprocessed\\\\train\\\\setup_1_imbalanced\\\\with_dr\\\\with_dr (938).jpeg',\n",
       " 'C:\\\\Users\\\\Admin\\\\Documents\\\\Python Scripts\\\\diabetic_retinopathy\\\\data\\\\preprocessed\\\\train\\\\with_dr_synth\\\\with_dr_gen (1821).jpeg',\n",
       " 'C:\\\\Users\\\\Admin\\\\Documents\\\\Python Scripts\\\\diabetic_retinopathy\\\\data\\\\preprocessed\\\\train\\\\with_dr_synth\\\\with_dr_gen (998).jpeg',\n",
       " 'C:\\\\Users\\\\Admin\\\\Documents\\\\Python Scripts\\\\diabetic_retinopathy\\\\data\\\\preprocessed\\\\train\\\\setup_1_imbalanced\\\\with_dr\\\\with_dr (238).jpeg']"
      ]
     },
     "execution_count": 4,
     "metadata": {},
     "output_type": "execute_result"
    }
   ],
   "source": [
    "combined = real + synthetic\n",
    "random.seed(101)\n",
    "random.shuffle(combined)\n",
    "combined[0:5]"
   ]
  },
  {
   "cell_type": "code",
   "execution_count": 5,
   "metadata": {},
   "outputs": [],
   "source": [
    "rvf = \"data/real_vs_fake/\"\n",
    "if not os.path.exists(rvf):\n",
    "    os.makedirs(rvf)"
   ]
  },
  {
   "cell_type": "code",
   "execution_count": 6,
   "metadata": {},
   "outputs": [],
   "source": [
    "combined_dict = dict()\n",
    "for idx, file_path in enumerate(combined):\n",
    "    destination_path = rvf + str(idx+1) + \".jpeg\" \n",
    "    shutil.copy(file_path, destination_path)\n",
    "    if \"_gen\" in file_path:\n",
    "        combined_dict[destination_path] = \"synthetic\"\n",
    "    else:\n",
    "        combined_dict[destination_path] = \"real\""
   ]
  },
  {
   "cell_type": "code",
   "execution_count": 11,
   "metadata": {},
   "outputs": [
    {
     "data": {
      "text/html": [
       "<div>\n",
       "<style scoped>\n",
       "    .dataframe tbody tr th:only-of-type {\n",
       "        vertical-align: middle;\n",
       "    }\n",
       "\n",
       "    .dataframe tbody tr th {\n",
       "        vertical-align: top;\n",
       "    }\n",
       "\n",
       "    .dataframe thead th {\n",
       "        text-align: right;\n",
       "    }\n",
       "</style>\n",
       "<table border=\"1\" class=\"dataframe\">\n",
       "  <thead>\n",
       "    <tr style=\"text-align: right;\">\n",
       "      <th></th>\n",
       "      <th>file_path</th>\n",
       "      <th>class</th>\n",
       "    </tr>\n",
       "  </thead>\n",
       "  <tbody>\n",
       "    <tr>\n",
       "      <th>0</th>\n",
       "      <td>data/real_vs_fake/1.jpeg</td>\n",
       "      <td>real</td>\n",
       "    </tr>\n",
       "    <tr>\n",
       "      <th>1</th>\n",
       "      <td>data/real_vs_fake/2.jpeg</td>\n",
       "      <td>real</td>\n",
       "    </tr>\n",
       "    <tr>\n",
       "      <th>2</th>\n",
       "      <td>data/real_vs_fake/3.jpeg</td>\n",
       "      <td>synthetic</td>\n",
       "    </tr>\n",
       "    <tr>\n",
       "      <th>3</th>\n",
       "      <td>data/real_vs_fake/4.jpeg</td>\n",
       "      <td>synthetic</td>\n",
       "    </tr>\n",
       "    <tr>\n",
       "      <th>4</th>\n",
       "      <td>data/real_vs_fake/5.jpeg</td>\n",
       "      <td>real</td>\n",
       "    </tr>\n",
       "  </tbody>\n",
       "</table>\n",
       "</div>"
      ],
      "text/plain": [
       "                  file_path      class\n",
       "0  data/real_vs_fake/1.jpeg       real\n",
       "1  data/real_vs_fake/2.jpeg       real\n",
       "2  data/real_vs_fake/3.jpeg  synthetic\n",
       "3  data/real_vs_fake/4.jpeg  synthetic\n",
       "4  data/real_vs_fake/5.jpeg       real"
      ]
     },
     "execution_count": 11,
     "metadata": {},
     "output_type": "execute_result"
    }
   ],
   "source": [
    "combined_df = pd.DataFrame([combined_dict]).T\n",
    "combined_df.reset_index(inplace=True)\n",
    "combined_df.columns = [\"file_path\", \"class\"]\n",
    "combined_df.head()"
   ]
  },
  {
   "cell_type": "code",
   "execution_count": 14,
   "metadata": {},
   "outputs": [
    {
     "data": {
      "text/plain": [
       "real         177\n",
       "synthetic    177\n",
       "Name: class, dtype: int64"
      ]
     },
     "execution_count": 14,
     "metadata": {},
     "output_type": "execute_result"
    }
   ],
   "source": [
    "combined_df[\"class\"].value_counts()"
   ]
  },
  {
   "cell_type": "code",
   "execution_count": 16,
   "metadata": {},
   "outputs": [],
   "source": [
    "combined_df.to_csv(\"data/combined_data.csv\", index=False)"
   ]
  },
  {
   "cell_type": "code",
   "execution_count": 2,
   "metadata": {},
   "outputs": [
    {
     "data": {
      "text/html": [
       "<div>\n",
       "<style scoped>\n",
       "    .dataframe tbody tr th:only-of-type {\n",
       "        vertical-align: middle;\n",
       "    }\n",
       "\n",
       "    .dataframe tbody tr th {\n",
       "        vertical-align: top;\n",
       "    }\n",
       "\n",
       "    .dataframe thead th {\n",
       "        text-align: right;\n",
       "    }\n",
       "</style>\n",
       "<table border=\"1\" class=\"dataframe\">\n",
       "  <thead>\n",
       "    <tr style=\"text-align: right;\">\n",
       "      <th></th>\n",
       "      <th>file_path</th>\n",
       "      <th>ground_truth</th>\n",
       "    </tr>\n",
       "  </thead>\n",
       "  <tbody>\n",
       "    <tr>\n",
       "      <th>0</th>\n",
       "      <td>data/real_vs_fake/1.jpeg</td>\n",
       "      <td>real</td>\n",
       "    </tr>\n",
       "    <tr>\n",
       "      <th>1</th>\n",
       "      <td>data/real_vs_fake/2.jpeg</td>\n",
       "      <td>real</td>\n",
       "    </tr>\n",
       "    <tr>\n",
       "      <th>2</th>\n",
       "      <td>data/real_vs_fake/3.jpeg</td>\n",
       "      <td>synthetic</td>\n",
       "    </tr>\n",
       "    <tr>\n",
       "      <th>3</th>\n",
       "      <td>data/real_vs_fake/4.jpeg</td>\n",
       "      <td>synthetic</td>\n",
       "    </tr>\n",
       "    <tr>\n",
       "      <th>4</th>\n",
       "      <td>data/real_vs_fake/5.jpeg</td>\n",
       "      <td>real</td>\n",
       "    </tr>\n",
       "  </tbody>\n",
       "</table>\n",
       "</div>"
      ],
      "text/plain": [
       "                  file_path ground_truth\n",
       "0  data/real_vs_fake/1.jpeg         real\n",
       "1  data/real_vs_fake/2.jpeg         real\n",
       "2  data/real_vs_fake/3.jpeg    synthetic\n",
       "3  data/real_vs_fake/4.jpeg    synthetic\n",
       "4  data/real_vs_fake/5.jpeg         real"
      ]
     },
     "execution_count": 2,
     "metadata": {},
     "output_type": "execute_result"
    }
   ],
   "source": [
    "combined_df = pd.read_csv(\"data/combined_data.csv\")\n",
    "combined_df.columns = [\"file_path\", \"ground_truth\"]\n",
    "combined_df.head()"
   ]
  },
  {
   "cell_type": "code",
   "execution_count": 3,
   "metadata": {},
   "outputs": [
    {
     "data": {
      "text/plain": [
       "['data/real_vs_fake/100.jpeg',\n",
       " 'data/real_vs_fake/101.jpeg',\n",
       " 'data/real_vs_fake/102.jpeg',\n",
       " 'data/real_vs_fake/105.jpeg',\n",
       " 'data/real_vs_fake/106.jpeg']"
      ]
     },
     "execution_count": 3,
     "metadata": {},
     "output_type": "execute_result"
    }
   ],
   "source": [
    "f_human = r\"C:\\Users\\Admin\\Documents\\Python Scripts\\diabetic_retinopathy\\data\\real_vs_fake_human\\fake\"\n",
    "f_files = [\"data/real_vs_fake/\" + file for file in list(os.walk(f_human))[0][2]]\n",
    "f_files[0:5]"
   ]
  },
  {
   "cell_type": "code",
   "execution_count": 4,
   "metadata": {},
   "outputs": [
    {
     "data": {
      "text/plain": [
       "['data/real_vs_fake/1.jpeg',\n",
       " 'data/real_vs_fake/10.jpeg',\n",
       " 'data/real_vs_fake/103.jpeg',\n",
       " 'data/real_vs_fake/104.jpeg',\n",
       " 'data/real_vs_fake/107.jpeg']"
      ]
     },
     "execution_count": 4,
     "metadata": {},
     "output_type": "execute_result"
    }
   ],
   "source": [
    "r_human = r\"C:\\Users\\Admin\\Documents\\Python Scripts\\diabetic_retinopathy\\data\\real_vs_fake_human\\real\"\n",
    "r_files = [\"data/real_vs_fake/\" + file for file in list(os.walk(r_human))[0][2]]\n",
    "r_files[0:5]"
   ]
  },
  {
   "cell_type": "code",
   "execution_count": 5,
   "metadata": {},
   "outputs": [
    {
     "data": {
      "text/html": [
       "<div>\n",
       "<style scoped>\n",
       "    .dataframe tbody tr th:only-of-type {\n",
       "        vertical-align: middle;\n",
       "    }\n",
       "\n",
       "    .dataframe tbody tr th {\n",
       "        vertical-align: top;\n",
       "    }\n",
       "\n",
       "    .dataframe thead th {\n",
       "        text-align: right;\n",
       "    }\n",
       "</style>\n",
       "<table border=\"1\" class=\"dataframe\">\n",
       "  <thead>\n",
       "    <tr style=\"text-align: right;\">\n",
       "      <th></th>\n",
       "      <th>file_path</th>\n",
       "      <th>ground_truth</th>\n",
       "      <th>human_label</th>\n",
       "    </tr>\n",
       "  </thead>\n",
       "  <tbody>\n",
       "    <tr>\n",
       "      <th>0</th>\n",
       "      <td>data/real_vs_fake/1.jpeg</td>\n",
       "      <td>real</td>\n",
       "      <td>real</td>\n",
       "    </tr>\n",
       "    <tr>\n",
       "      <th>1</th>\n",
       "      <td>data/real_vs_fake/2.jpeg</td>\n",
       "      <td>real</td>\n",
       "      <td>real</td>\n",
       "    </tr>\n",
       "    <tr>\n",
       "      <th>2</th>\n",
       "      <td>data/real_vs_fake/3.jpeg</td>\n",
       "      <td>synthetic</td>\n",
       "      <td>synthetic</td>\n",
       "    </tr>\n",
       "    <tr>\n",
       "      <th>3</th>\n",
       "      <td>data/real_vs_fake/4.jpeg</td>\n",
       "      <td>synthetic</td>\n",
       "      <td>synthetic</td>\n",
       "    </tr>\n",
       "    <tr>\n",
       "      <th>4</th>\n",
       "      <td>data/real_vs_fake/5.jpeg</td>\n",
       "      <td>real</td>\n",
       "      <td>real</td>\n",
       "    </tr>\n",
       "  </tbody>\n",
       "</table>\n",
       "</div>"
      ],
      "text/plain": [
       "                  file_path ground_truth human_label\n",
       "0  data/real_vs_fake/1.jpeg         real        real\n",
       "1  data/real_vs_fake/2.jpeg         real        real\n",
       "2  data/real_vs_fake/3.jpeg    synthetic   synthetic\n",
       "3  data/real_vs_fake/4.jpeg    synthetic   synthetic\n",
       "4  data/real_vs_fake/5.jpeg         real        real"
      ]
     },
     "execution_count": 5,
     "metadata": {},
     "output_type": "execute_result"
    }
   ],
   "source": [
    "combined_df[\"human_label\"] = combined_df[\"file_path\"].apply(lambda x: \"real\" if x in r_files else \"synthetic\")\n",
    "combined_df.head()"
   ]
  },
  {
   "cell_type": "code",
   "execution_count": 6,
   "metadata": {},
   "outputs": [],
   "source": [
    "labels = [\"real\", \"synthetic\"]\n",
    "cf_matrix = confusion_matrix(combined_df[\"ground_truth\"], combined_df[\"human_label\"], labels=labels)"
   ]
  },
  {
   "cell_type": "code",
   "execution_count": 7,
   "metadata": {},
   "outputs": [
    {
     "data": {
      "text/plain": [
       "array([[175,   2],\n",
       "       [  3, 174]], dtype=int64)"
      ]
     },
     "execution_count": 7,
     "metadata": {},
     "output_type": "execute_result"
    }
   ],
   "source": [
    "cf_matrix"
   ]
  },
  {
   "cell_type": "code",
   "execution_count": 12,
   "metadata": {},
   "outputs": [
    {
     "data": {
      "text/plain": [
       "Text(33.0, 0.5, 'expert label')"
      ]
     },
     "execution_count": 12,
     "metadata": {},
     "output_type": "execute_result"
    },
    {
     "data": {
      "image/png": "[encoded data removed]",
      "text/plain": [
       "<Figure size 432x288 with 2 Axes>"
      ]
     },
     "metadata": {
      "needs_background": "light"
     },
     "output_type": "display_data"
    }
   ],
   "source": [
    "ax= plt.subplot()\n",
    "sns.heatmap(cf_matrix/np.sum(cf_matrix), annot=True, fmt=\".2%\", cmap=\"Blues\")\n",
    "ax.xaxis.set_ticklabels(labels); ax.yaxis.set_ticklabels(labels)\n",
    "plt.xlabel(\"ground truth\", weight=\"bold\")\n",
    "plt.ylabel(\"expert label\", weight=\"bold\")"
   ]
  },
  {
   "cell_type": "code",
   "execution_count": null,
   "metadata": {},
   "outputs": [],
   "source": []
  }
 ],
 "metadata": {
  "kernelspec": {
   "display_name": "Python 3",
   "language": "python",
   "name": "python3"
  },
  "language_info": {
   "codemirror_mode": {
    "name": "ipython",
    "version": 3
   },
   "file_extension": ".py",
   "mimetype": "text/x-python",
   "name": "python",
   "nbconvert_exporter": "python",
   "pygments_lexer": "ipython3",
   "version": "3.8.5"
  }
 },
 "nbformat": 4,
 "nbformat_minor": 4
}
